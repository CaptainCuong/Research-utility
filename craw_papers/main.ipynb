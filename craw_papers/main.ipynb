{
 "cells": [
  {
   "cell_type": "code",
   "execution_count": null,
   "metadata": {},
   "outputs": [],
   "source": [
    "import re\n",
    "import pandas as pd\n",
    "\n",
    "year = 2020\n",
    "column = 'title'\n",
    "venue = 'emnlp'\n",
    "match_all_key = False\n",
    "\n",
    "df = pd.read_csv(f'{venue}{year}_full.csv')\n",
    "\n",
    "# custom keywords\n",
    "keywords = ['parallel']\n",
    "\n",
    "if match_all_key:\n",
    "    for key in keywords:\n",
    "        matched = df[column].apply(lambda x: len(\n",
    "        re.findall(key, x.strip().lower())))\n",
    "        df = df[matched > 0]\n",
    "else:\n",
    "    classes_regex = '(' + '|'.join([c.lower() for c in keywords]) + ')'\n",
    "    matched = df['title'].apply(lambda x: len(\n",
    "        re.findall(classes_regex, x.strip().lower())))\n",
    "    df = df[matched > 0]\n",
    "\n",
    "df['title'].to_csv(f'{venue}{year}_selective.csv', index=False)"
   ]
  }
 ],
 "metadata": {
  "language_info": {
   "name": "python"
  },
  "orig_nbformat": 4
 },
 "nbformat": 4,
 "nbformat_minor": 2
}
